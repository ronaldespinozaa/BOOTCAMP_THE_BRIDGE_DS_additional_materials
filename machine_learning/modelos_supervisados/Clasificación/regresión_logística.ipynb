{
 "cells": [
  {
   "cell_type": "markdown",
   "metadata": {},
   "source": [
    "La regresión logística es una herramienta estadística poderosa que nos permite modelar la probabilidad de que ocurra un evento. A diferencia de la regresión lineal, que predice valores numéricos continuos, la regresión logística se enfoca en predecir eventos binarios (sí/no, 1/0).\n",
    "\n",
    "## ¿Cómo funciona en términos estadísticos?\n",
    "\n",
    "## Modelo Matemático:\n",
    "\n",
    "Función Logística: La base de la regresión logística es la función logística, también conocida como función sigmoide. Esta función transforma cualquier valor real en un valor entre 0 y 1, representando una probabilidad. La ecuación es:\n",
    "\n",
    "$ p = \\frac{1}{1 + e^{-z}} $ \n",
    "\n",
    "donde:\n",
    "p: Probabilidad del evento\n",
    "z: Combinación lineal de las variables predictoras y sus coeficientes (similar a la ecuación de la recta en la regresión lineal).\n",
    "\n",
    "## Combinación Lineal:\n",
    "\n",
    "z = β0 + β1*X1 + β2*X2 + ... + βn*Xn\n",
    "\n",
    "donde:\n",
    "β0: Intercepto\n",
    "β1, β2, ..., βn: Coeficientes de las variables independientes\n",
    "X1, X2, ..., Xn: Valores de las variables independientes\n",
    "\n",
    "## Estimación de Coeficientes:\n",
    "\n",
    "- Máxima Verosimilitud: El objetivo es encontrar los valores de los coeficientes que maximicen la probabilidad de obtener los datos observados. Esto se logra mediante un proceso iterativo que ajusta los coeficientes hasta encontrar el mejor ajuste.\n",
    "\n",
    "## Interpretación de Coeficientes:\n",
    "\n",
    "- Signo: Un coeficiente positivo indica que al aumentar el valor de la variable - independiente correspondiente, aumenta la probabilidad del evento. Un coeficiente negativo indica lo contrario.\n",
    "- Magnitud: La magnitud del coeficiente refleja la importancia de la variable en la predicción.\n",
    "\n",
    "## Predicción:\n",
    "\n",
    "Una vez que tenemos los coeficientes estimados, podemos calcular la probabilidad de que ocurra el evento para nuevos datos. Si la probabilidad es mayor que un umbral determinado (por ejemplo, 0.5), se predice que el evento ocurrirá.\n",
    "\n",
    "## ¿Por qué la función logística?\n",
    "\n",
    "- Limita la probabilidad: Asegura que las predicciones siempre estén entre 0 y 1, lo que es ideal para probabilidades.\n",
    "- No linealidad: Permite modelar relaciones no lineales entre las variables.\n",
    "\n",
    "## En resumen:\n",
    "La regresión logística es un modelo estadístico que utiliza una función logística para modelar la probabilidad de un evento binario en función de una o más variables independientes. Al estimar los coeficientes del modelo, podemos entender la importancia de cada variable y hacer predicciones precisas."
   ]
  },
  {
   "cell_type": "code",
   "execution_count": null,
   "metadata": {},
   "outputs": [],
   "source": [
    "import numpy as np\n",
    "import pandas as pd\n",
    "from sklearn.model_selection import train_test_split\n",
    "from sklearn.linear_model import LogisticRegression\n",
    "from sklearn.metrics import accuracy_score\n",
    "\n",
    "# Generar datos de ejemplo\n",
    "np.random.seed(0)\n",
    "X = np.random.rand(100, 2)\n",
    "y = (X[:, 0] + X[:, 1] > 1).astype(int)"
   ]
  },
  {
   "cell_type": "markdown",
   "metadata": {},
   "source": []
  },
  {
   "cell_type": "code",
   "execution_count": null,
   "metadata": {},
   "outputs": [],
   "source": []
  },
  {
   "cell_type": "code",
   "execution_count": null,
   "metadata": {},
   "outputs": [],
   "source": []
  }
 ],
 "metadata": {
  "language_info": {
   "name": "python"
  }
 },
 "nbformat": 4,
 "nbformat_minor": 2
}
